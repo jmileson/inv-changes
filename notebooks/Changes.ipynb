{
 "cells": [
  {
   "cell_type": "code",
   "execution_count": 74,
   "metadata": {},
   "outputs": [],
   "source": [
    "import numpy as np\n",
    "import pandas as pd\n",
    "from os import getcwd\n",
    "from os.path import join, dirname\n",
    "import string_utils\n",
    "import datetime\n",
    "from bokeh.plotting import figure, show, output_notebook\n",
    "%matplotlib inline\n",
    "\n",
    "ONE_DAY = datetime.timedelta(days=1)\n",
    "DATA_DIR = join(dirname(getcwd()), 'data')\n",
    "DATA_FILE = join(DATA_DIR, 'WebsiteUploads_dbo_ProductInventory_010.csv')\n",
    "headers = ['sku', 'bulk_id', 'size_code', 'quantity_on_hand', 'lifecycle_status_flag', 'expected_date',\n",
    "           'location', 'back_order_type', 'product_code', 'product_type', 'is_perishable', 'is_dropship',\n",
    "           'street_address_required', 'effective_on', 'expired_on', 'added_on', 'added_by', 'modified_on',\n",
    "           'modified_by', 'version']\n",
    "column_types = {\n",
    "    'sku': str, \n",
    "    'bulk_id': str, \n",
    "    'size_code': str,\n",
    "    'is_perishable': bool,\n",
    "    'is_dropship': bool,\n",
    "    'street_address_required': bool\n",
    "}\n",
    "df = pd.read_csv(DATA_FILE, names=headers, parse_dates=[5, 13, 14, 15, 17], dtype=column_types)\n",
    "\n",
    "\n",
    "OUT_OF_STOCK_FLAGS = ['DS', 'ED']\n",
    "BACKORDERED_FLAGS = ['DX', 'EX']\n",
    "STOCK_STATUS_LABELS = {\n",
    "    0: 'out_of_stock',\n",
    "    1: 'in_stock',\n",
    "    2: 'back_ordered'\n",
    "}\n",
    "\n",
    "# todo: review this logic\n",
    "def assign_stock_status(row):\n",
    "    \"\"\"determine the stock status of a sku\"\"\"\n",
    "    if row['lifecycle_status_flag'] in OUT_OF_STOCK_FLAGS:\n",
    "        return 0\n",
    "    elif row['expected_date'] and row['lifecycle_status_flag'] in BACKORDERED_FLAGS:\n",
    "        return 2\n",
    "    else:\n",
    "        return 1\n",
    "\n",
    "def date_to_midnight(dt):\n",
    "    \"\"\"convert a date to a datetime set at midnight\"\"\"\n",
    "    return datetime.datetime.combine(dt, datetime.time())\n",
    "\n",
    "def datetime_to_date(dt):\n",
    "    \"\"\"convert a datetime to a date\"\"\"\n",
    "    return dt.date()\n",
    "\n",
    "def calculate_daily_duration(row):\n",
    "    if row['effective_on_date'] != row['expired_on_date']:\n",
    "        return date_to_midnight(row['effective_on_date'] + ONE_DAY) - row['effective_on']\n",
    "    else:\n",
    "        return row['expired_on'] - row['effective_on']"
   ]
  },
  {
   "cell_type": "markdown",
   "metadata": {},
   "source": [
    "### Dataset cleansing\n",
    "A rough, early estimate shows that we can reduce the row count of the dataset but as much as 2/5 by filtering some uninteresting\n",
    "rows to begin with.\n",
    "\n",
    "#### Filter website-hidden SKUs\n",
    "A number of SKUs are hidden from sale on the website, which makes them, effectively, out of stock.  I'm filtering\n",
    "them out here to avoid cluttering up the data.\n",
    "\n",
    "#### Filtering 'always out of stock' items\n",
    "Some SKUs were sold on the site at sometime in the past, but are no longer saleable items, and will probably remain\n",
    "that way.  In any case, items that have been listed as 'out of stock' for the duration of the data set are removed."
   ]
  },
  {
   "cell_type": "code",
   "execution_count": 75,
   "metadata": {},
   "outputs": [],
   "source": [
    "df = df.drop(['location', 'back_order_type', 'product_code', 'product_type', 'is_perishable', 'is_dropship',\n",
    "           'street_address_required', 'added_on', 'added_by', 'modified_on', 'modified_by', 'version'], axis=1)\n",
    "# apply stock status\n",
    "df['stock_status'] = df.apply(assign_stock_status, axis=1)\n",
    "\n",
    "# remove skus we don't care about\n",
    "df = df[~df['size_code'].isin(['99', '98', '97'])]\n",
    "# remove skus that are always out of stock\n",
    "stock_status_only = df[['sku', 'stock_status']]\n",
    "status_counts = stock_status_only.pivot_table(index='sku', \n",
    "                                              columns=['stock_status'], \n",
    "                                              values='stock_status', \n",
    "                                              aggfunc=lambda x: x.count()).fillna(0)\n",
    "for col in range(3):\n",
    "    if col not in status_counts:\n",
    "        status_counts[col] = 0\n",
    "always_out_of_stock = status_counts[(status_counts[1] == 0) & (status_counts[2] == 0)].index.values\n",
    "df = df[~df['sku'].isin(always_out_of_stock)]\n"
   ]
  },
  {
   "cell_type": "markdown",
   "metadata": {},
   "source": [
    "### Preparation\n",
    "Determine to which days the rows are assigned, and calculate the duration of each "
   ]
  },
  {
   "cell_type": "code",
   "execution_count": 76,
   "metadata": {},
   "outputs": [],
   "source": [
    "# facilitate grouping by day\n",
    "df['effective_on_date'] = df['effective_on'].apply(datetime_to_date)\n",
    "df['expired_on_date'] = df['expired_on'].apply(datetime_to_date)\n",
    "\n",
    "# rows that have effective_on_date != expired_on_date need to apply to both the\n",
    "# end of the day they were effective on, and the beginning of the day they expire\n",
    "# on. add new rows for the 'expired on day' pull forward some information\n",
    "add_rows = df[df['effective_on_date'] != df['expired_on_date']]\n",
    "add_rows = add_rows.assign(effective_on_date=add_rows['expired_on_date'])\n",
    "add_rows = add_rows.assign(effective_on=add_rows['effective_on_date'].apply(date_to_midnight))\n",
    "df = df.append(add_rows, ignore_index=True)\n",
    "\n",
    "# calculate the status duration\n",
    "df['status_duration'] = df.apply(calculate_daily_duration, axis=1)"
   ]
  },
  {
   "cell_type": "code",
   "execution_count": null,
   "metadata": {},
   "outputs": [],
   "source": [
    "df"
   ]
  },
  {
   "cell_type": "code",
   "execution_count": null,
   "metadata": {},
   "outputs": [],
   "source": []
  },
  {
   "cell_type": "code",
   "execution_count": null,
   "metadata": {},
   "outputs": [],
   "source": []
  },
  {
   "cell_type": "code",
   "execution_count": null,
   "metadata": {},
   "outputs": [],
   "source": []
  },
  {
   "cell_type": "code",
   "execution_count": null,
   "metadata": {},
   "outputs": [],
   "source": []
  },
  {
   "cell_type": "code",
   "execution_count": null,
   "metadata": {},
   "outputs": [],
   "source": []
  },
  {
   "cell_type": "code",
   "execution_count": null,
   "metadata": {},
   "outputs": [],
   "source": []
  },
  {
   "cell_type": "code",
   "execution_count": null,
   "metadata": {},
   "outputs": [],
   "source": []
  },
  {
   "cell_type": "code",
   "execution_count": null,
   "metadata": {},
   "outputs": [],
   "source": []
  },
  {
   "cell_type": "code",
   "execution_count": null,
   "metadata": {},
   "outputs": [],
   "source": []
  },
  {
   "cell_type": "code",
   "execution_count": null,
   "metadata": {},
   "outputs": [],
   "source": []
  }
 ],
 "metadata": {
  "kernelspec": {
   "display_name": "Python 3",
   "language": "python",
   "name": "python3"
  },
  "language_info": {
   "codemirror_mode": {
    "name": "ipython",
    "version": 3
   },
   "file_extension": ".py",
   "mimetype": "text/x-python",
   "name": "python",
   "nbconvert_exporter": "python",
   "pygments_lexer": "ipython3",
   "version": "3.6.1"
  }
 },
 "nbformat": 4,
 "nbformat_minor": 2
}
